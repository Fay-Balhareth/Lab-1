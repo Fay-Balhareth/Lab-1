{
  "nbformat": 4,
  "nbformat_minor": 0,
  "metadata": {
    "colab": {
      "provenance": []
    },
    "kernelspec": {
      "name": "python3",
      "display_name": "Python 3"
    },
    "language_info": {
      "name": "python"
    }
  },
  "cells": [
    {
      "cell_type": "markdown",
      "source": [
        "# **1. Data Types Conversion Exercise**\n",
        "\n",
        "**Task**: Write a script to convert between different data types (e.g., int to float, list to tuple).\n",
        "\n",
        "**Hint**: Use built-in functions like int(), float(), list(), tuple().\n",
        "\n",
        "**Example**: Convert a list of integers into a tuple of floats.\n"
      ],
      "metadata": {
        "id": "i4u3H3dPEpXs"
      }
    },
    {
      "cell_type": "code",
      "source": [
        "# 1. CONVERT integer TO float\n",
        "integr = 6\n",
        "print(\"The value before converting :\", integr)\n",
        "typeFloat = float(integr)\n",
        "print(\"The value after converting  :\", typeFloat)"
      ],
      "metadata": {
        "colab": {
          "base_uri": "https://localhost:8080/"
        },
        "id": "6zNSpTIeZDnV",
        "outputId": "9472869b-51f3-4499-82d2-8445e1e0e8cf"
      },
      "execution_count": null,
      "outputs": [
        {
          "output_type": "stream",
          "name": "stdout",
          "text": [
            "The value before converting : 6\n",
            "The value after converting  : 6.0\n"
          ]
        }
      ]
    },
    {
      "cell_type": "code",
      "source": [
        "# 2. CONVERT float TO integer\n",
        "print(\"The value before converting :\", typeFloat)\n",
        "typeIntger = int(typeFloat)\n",
        "print(\"The value after converting  :\", typeIntger)"
      ],
      "metadata": {
        "colab": {
          "base_uri": "https://localhost:8080/"
        },
        "id": "xJTlvBHfZnmc",
        "outputId": "1e117b4c-8ccb-42c5-a15a-70b4d9ec3396"
      },
      "execution_count": null,
      "outputs": [
        {
          "output_type": "stream",
          "name": "stdout",
          "text": [
            "The value before converting : 6.0\n",
            "The value after converting  : 6\n"
          ]
        }
      ]
    },
    {
      "cell_type": "code",
      "source": [
        "# 3. CONVERT list TO tuple\n",
        "typeList = [1, 2, 3, 4, 5]\n",
        "print(\"The value before converting :\", typeList)\n",
        "typeTuple = tuple(typeList)\n",
        "print(\"The value after converting  :\", typeTuple)"
      ],
      "metadata": {
        "colab": {
          "base_uri": "https://localhost:8080/"
        },
        "id": "5BLfHqfqcehE",
        "outputId": "45d8491c-9fcc-45ed-ebe2-3e1c102062b7"
      },
      "execution_count": null,
      "outputs": [
        {
          "output_type": "stream",
          "name": "stdout",
          "text": [
            "The value before converting : [1, 2, 3, 4, 5]\n",
            "The value after converting  : (1, 2, 3, 4, 5)\n"
          ]
        }
      ]
    },
    {
      "cell_type": "code",
      "source": [
        "# 4. CONVERT tuple TO list\n",
        "print(\"The value before converting :\", typeTuple)\n",
        "toList = list(typeTuple)\n",
        "print(\"The value after converting  :\", toList)"
      ],
      "metadata": {
        "colab": {
          "base_uri": "https://localhost:8080/"
        },
        "id": "lk86DqTrda44",
        "outputId": "5ad748f5-9824-4f42-c250-b54626974576"
      },
      "execution_count": null,
      "outputs": [
        {
          "output_type": "stream",
          "name": "stdout",
          "text": [
            "The value before converting : (1, 2, 3, 4, 5)\n",
            "The value after converting  : [1, 2, 3, 4, 5]\n"
          ]
        }
      ]
    },
    {
      "cell_type": "code",
      "source": [
        "# 5. Example: Convert a list of integers into a tuple of floats\n",
        "intList = [1, 2, 3]\n",
        "print(\"The List of integers : \", intList)\n",
        "tupleFloat = tuple( float(x) for x in intList )\n",
        "print(\"The Tuple of floats  : \", tupleFloat)"
      ],
      "metadata": {
        "colab": {
          "base_uri": "https://localhost:8080/"
        },
        "id": "jDnclrMUeUZ9",
        "outputId": "b622d997-3684-46fb-e24e-66b6b9679f07"
      },
      "execution_count": null,
      "outputs": [
        {
          "output_type": "stream",
          "name": "stdout",
          "text": [
            "The List of integers :  [1, 2, 3]\n",
            "The Tuple of floats  :  (1.0, 2.0, 3.0)\n"
          ]
        }
      ]
    },
    {
      "cell_type": "markdown",
      "source": [
        "# **2. List Manipulation Exercise**\n",
        "\n",
        "**Task**: Create a list of numbers, then write a function to perform operations like adding a number, removing a number, and finding the index of a number.\n",
        "\n",
        "**Hint**: Use methods like append(), remove(), index().\n",
        "\n",
        "**Example**: Start with a list [1, 2, 3], add 4, remove 2, and find the index of 3."
      ],
      "metadata": {
        "id": "Tp1Dlkn-f0PZ"
      }
    },
    {
      "cell_type": "code",
      "source": [
        "# 1. Create a list of numbers, Start with a list [1, 2, 3]\n",
        "theList = [1, 2, 3]\n",
        "\n",
        "# 2. Write a function to perform operations\n",
        "def function(theList, addNum, removeNum, findIndex):\n",
        "    print(\"The value before perform operations :\", theList)\n",
        "\n",
        "    # 2.1 Adding a number\n",
        "    theList.append(addNum)\n",
        "    print(\"List after adding \", addNum, \" :\", theList)\n",
        "\n",
        "    # 2.2 Removing a number\n",
        "    if removeNum in theList:\n",
        "        theList.remove(removeNum)\n",
        "        print(\"List after removing\", removeNum, \":\", theList)\n",
        "    else:\n",
        "        print(removeNum, \"Not Found !\")\n",
        "\n",
        "    # 2.3 Finding the index of a number\n",
        "    if findIndex in theList:\n",
        "        index = theList.index(findIndex)\n",
        "        print(\"The index of\", findIndex, \"is : \", index)\n",
        "    else:\n",
        "        print(findIndex, \"Not Found !\")\n",
        "\n",
        "# 3. Example: Start with a list [1, 2, 3], add 4, remove 2, and find the index of 3\n",
        "function(theList, addNum=4, removeNum=2, findIndex=3)"
      ],
      "metadata": {
        "colab": {
          "base_uri": "https://localhost:8080/"
        },
        "id": "Qbash_tQhRyQ",
        "outputId": "37da49b6-1b68-4094-ef03-cf1965e6510f"
      },
      "execution_count": null,
      "outputs": [
        {
          "output_type": "stream",
          "name": "stdout",
          "text": [
            "The value before perform operations : [1, 2, 3]\n",
            "List after adding  4  : [1, 2, 3, 4]\n",
            "List after removing 2 : [1, 3, 4]\n",
            "The index of 3 is :  1\n"
          ]
        }
      ]
    },
    {
      "cell_type": "markdown",
      "source": [
        "# **3. Dictionary Operations Exercise**\n",
        "\n",
        "**Task**: Create a dictionary representing a phone book, then add, remove, and modify entries.\n",
        "\n",
        "**Hint**: Use keys for names and values for phone numbers.\n",
        "\n",
        "**Example**: Start with an empty phone book, add three new contacts, delete one, and change a number."
      ],
      "metadata": {
        "id": "obQgIPH4lvMB"
      }
    },
    {
      "cell_type": "code",
      "source": [
        "# 1. Create a dictionary representing a phone book, Start with an empty phone book\n",
        "phone = {}\n",
        "\n",
        "# 2. Add three new contacts\n",
        "phone[\"Fay\"] = \"+966 54 419 7022\"\n",
        "phone[\"Mansour\"]  = \"+966 00 000 0000\"\n",
        "phone[\"Mohammed\"] = \"+966 00 000 0000\"\n",
        "print(\"The contacts before deleting :\", phone)\n",
        "\n",
        "# 3. Delete one\n",
        "del phone[\"Fay\"]\n",
        "print(\"The contacts after deleting  :\", phone)\n",
        "\n",
        "# 4. Change a number\n",
        "if \"Mohammed\" in phone:\n",
        "    phone[\"Mohammed\"] = \"+966 11 111 1111\"\n",
        "    print(\"The contacts after changing  :\", phone)\n",
        "else:\n",
        "    print(\"N/A\")"
      ],
      "metadata": {
        "colab": {
          "base_uri": "https://localhost:8080/"
        },
        "id": "09ZmfLM9mAPH",
        "outputId": "29862dce-60a1-4bf7-ef88-308e5cebef37"
      },
      "execution_count": null,
      "outputs": [
        {
          "output_type": "stream",
          "name": "stdout",
          "text": [
            "The contacts before deleting : {'Fay': '+966 54 419 7022', 'Mansour': '+966 00 000 0000', 'Mohammed': '+966 00 000 0000'}\n",
            "The contacts after deleting  : {'Mansour': '+966 00 000 0000', 'Mohammed': '+966 00 000 0000'}\n",
            "The contacts after changing  : {'Mansour': '+966 00 000 0000', 'Mohammed': '+966 11 111 1111'}\n"
          ]
        }
      ]
    },
    {
      "cell_type": "markdown",
      "source": [
        "# **4. String Formatting Exercise**\n",
        "\n",
        "**Task**: Write a script that takes user input and formats it in a specific way (e.g., date formatting).\n",
        "\n",
        "**Hint**: Use string methods like split(), join(), and formatting techniques.\n",
        "\n",
        "**Example**: Convert \"2024-01-29\" to \"January 29, 2024\""
      ],
      "metadata": {
        "id": "3IvF_E8IsLjh"
      }
    },
    {
      "cell_type": "code",
      "source": [
        "# 1. Takes user input\n",
        "user = input(\"Enter a date as YYYY-MM-DD : \")\n",
        "\n",
        "# 2. Formats it in a specific way -> year, month, and day\n",
        "year, month, day = user.split('-')              # split()\n",
        "\n",
        "# 3. Mapping\n",
        "mapping = {\n",
        "    '01': 'January',\n",
        "    '02': 'February',\n",
        "    '03': 'March',\n",
        "    '04': 'April',\n",
        "    '05': 'May',\n",
        "    '06': 'June',\n",
        "    '07': 'July',\n",
        "    '08': 'August',\n",
        "    '09': 'September',\n",
        "    '10': 'October',\n",
        "    '11': 'November',\n",
        "    '12': 'December'\n",
        "}\n",
        "\n",
        "# 4. formatting technique\n",
        "formatting = f\"{mapping[month]} {int(day)}, {year}\"\n",
        "print(\"Formatted Date : \", formatting)"
      ],
      "metadata": {
        "colab": {
          "base_uri": "https://localhost:8080/"
        },
        "id": "kT0JxHC3skyM",
        "outputId": "98a4b02a-b48b-472d-8524-25592b512647"
      },
      "execution_count": null,
      "outputs": [
        {
          "output_type": "stream",
          "name": "stdout",
          "text": [
            "Enter a date as YYYY-MM-DD : 2001-08-22\n",
            "Formatted Date :  August 22, 2001\n"
          ]
        }
      ]
    },
    {
      "cell_type": "markdown",
      "source": [
        "# **5. Numpy Array Operations Exercise**\n",
        "\n",
        "**Task**: Create a numpy array, perform operations like sum, mean, and reshape.\n",
        "\n",
        "**Hint**: Use numpy functions like sum(), mean(), reshape().\n",
        "\n",
        "**Example**: Create an array of shape (2, 5), calculate its sum, and reshape it to (5, 2).\n",
        "\n"
      ],
      "metadata": {
        "id": "xFz1uT9sspc6"
      }
    },
    {
      "cell_type": "code",
      "source": [
        "import numpy as np\n",
        "\n",
        "# 1. Create a numpy array (2, 5)\n",
        "arr = np.array([[11, 12, 13, 14, 15],\n",
        "                [16, 17, 18, 19, 20]])\n",
        "\n",
        "# 2. Calculate sum\n",
        "sum = np.sum(arr)\n",
        "print(\"The sum is  : \",sum)\n",
        "\n",
        "# 3. Calculate mean\n",
        "mean = np.mean(arr)\n",
        "print(\"The mean is : \",mean)\n",
        "\n",
        "# 4. Reshape it to (5, 2).\n",
        "reshaped = arr.reshape((5, 2))\n",
        "print(\"The array after reshaped : \\n\",reshaped)"
      ],
      "metadata": {
        "id": "SlOeO8qys0g5",
        "colab": {
          "base_uri": "https://localhost:8080/"
        },
        "outputId": "382b8e58-57d2-4fa0-afb4-b011a9d677e5"
      },
      "execution_count": null,
      "outputs": [
        {
          "output_type": "stream",
          "name": "stdout",
          "text": [
            "The sum is  :  155\n",
            "The mean is :  15.5\n",
            "The array after reshaped : \n",
            " [[11 12]\n",
            " [13 14]\n",
            " [15 16]\n",
            " [17 18]\n",
            " [19 20]]\n"
          ]
        }
      ]
    },
    {
      "cell_type": "markdown",
      "source": [
        "# **6. Basic Matplotlib Plotting Exercise**\n",
        "\n",
        "**Task**: Use matplotlib to plot a simple line graph and a scatter plot.\n",
        "\n",
        "**Hint**: Use plt.plot() for line graphs and plt.scatter() for scatter plots.\n",
        "\n",
        "**Example**: Plot y = x^2 as a line graph and random points as a scatter plot.\n"
      ],
      "metadata": {
        "id": "5DzBvU7Ms1Qp"
      }
    },
    {
      "cell_type": "code",
      "source": [
        "import matplotlib.pyplot as plt\n",
        "\n",
        "# 1. Create (random points)\n",
        "random_points_x = np.random.rand(20) * 5\n",
        "random_points_y = np.random.rand(20) * 50\n",
        "\n",
        "# 2. Two plots side by side)\n",
        "fig, (ax1, ax2) = plt.subplots(1, 2, figsize=(12, 5)) #side by side, figure size is set to 12x5 inches. w,h\n",
        "\n",
        "# 3. Use plt.scatter() for the scatter plot\n",
        "ax1.scatter(random_points_x, random_points_y, color=\"lightgreen\")\n",
        "ax1.set_xlabel('X-axis')\n",
        "ax1.set_ylabel('Y-axis')\n",
        "ax1.set_title('Scatter Plot')\n",
        "\n",
        "# 4. Use plt.plot() for the line graph\n",
        "x = np.linspace(-5, 5, 400) # -5 and 5 range, 400 points to generate between -5 and 5.\n",
        "y = x**2\n",
        "ax2.plot(x, y, color=\"lightblue\")\n",
        "ax2.set_xlabel('X-axis')\n",
        "ax2.set_ylabel('Y-axis')\n",
        "ax2.set_title(\"Line Graph\")\n",
        "\n",
        "plt.show()"
      ],
      "metadata": {
        "id": "BOjEOSZstHCH",
        "colab": {
          "base_uri": "https://localhost:8080/",
          "height": 487
        },
        "outputId": "55e666e2-7e43-4e61-dd56-eb03da7aab97"
      },
      "execution_count": null,
      "outputs": [
        {
          "output_type": "display_data",
          "data": {
            "text/plain": [
              "<Figure size 1200x500 with 2 Axes>"
            ],
            "image/png": "[encoded data removed]"
          },
          "metadata": {}
        }
      ]
    }
  ]
}